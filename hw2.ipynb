{
 "cells": [
  {
   "cell_type": "code",
   "execution_count": 2,
   "id": "68caaaa7",
   "metadata": {},
   "outputs": [],
   "source": [
    "import pandas as pd\n"
   ]
  },
  {
   "cell_type": "code",
   "execution_count": 3,
   "id": "092cc8fd",
   "metadata": {},
   "outputs": [
    {
     "data": {
      "application/vnd.microsoft.datawrangler.viewer.v0+json": {
       "columns": [
        {
         "name": "index",
         "rawType": "int64",
         "type": "integer"
        },
        {
         "name": "patents",
         "rawType": "int64",
         "type": "integer"
        },
        {
         "name": "region",
         "rawType": "object",
         "type": "string"
        },
        {
         "name": "age",
         "rawType": "float64",
         "type": "float"
        },
        {
         "name": "iscustomer",
         "rawType": "int64",
         "type": "integer"
        }
       ],
       "conversionMethod": "pd.DataFrame",
       "ref": "93e2f6d6-74f7-4984-8a74-3eb3c96836ee",
       "rows": [
        [
         "0",
         "0",
         "Midwest",
         "32.5",
         "0"
        ],
        [
         "1",
         "3",
         "Southwest",
         "37.5",
         "0"
        ],
        [
         "2",
         "4",
         "Northwest",
         "27.0",
         "1"
        ],
        [
         "3",
         "3",
         "Northeast",
         "24.5",
         "0"
        ],
        [
         "4",
         "3",
         "Southwest",
         "37.0",
         "0"
        ]
       ],
       "shape": {
        "columns": 4,
        "rows": 5
       }
      },
      "text/html": [
       "<div>\n",
       "<style scoped>\n",
       "    .dataframe tbody tr th:only-of-type {\n",
       "        vertical-align: middle;\n",
       "    }\n",
       "\n",
       "    .dataframe tbody tr th {\n",
       "        vertical-align: top;\n",
       "    }\n",
       "\n",
       "    .dataframe thead th {\n",
       "        text-align: right;\n",
       "    }\n",
       "</style>\n",
       "<table border=\"1\" class=\"dataframe\">\n",
       "  <thead>\n",
       "    <tr style=\"text-align: right;\">\n",
       "      <th></th>\n",
       "      <th>patents</th>\n",
       "      <th>region</th>\n",
       "      <th>age</th>\n",
       "      <th>iscustomer</th>\n",
       "    </tr>\n",
       "  </thead>\n",
       "  <tbody>\n",
       "    <tr>\n",
       "      <th>0</th>\n",
       "      <td>0</td>\n",
       "      <td>Midwest</td>\n",
       "      <td>32.5</td>\n",
       "      <td>0</td>\n",
       "    </tr>\n",
       "    <tr>\n",
       "      <th>1</th>\n",
       "      <td>3</td>\n",
       "      <td>Southwest</td>\n",
       "      <td>37.5</td>\n",
       "      <td>0</td>\n",
       "    </tr>\n",
       "    <tr>\n",
       "      <th>2</th>\n",
       "      <td>4</td>\n",
       "      <td>Northwest</td>\n",
       "      <td>27.0</td>\n",
       "      <td>1</td>\n",
       "    </tr>\n",
       "    <tr>\n",
       "      <th>3</th>\n",
       "      <td>3</td>\n",
       "      <td>Northeast</td>\n",
       "      <td>24.5</td>\n",
       "      <td>0</td>\n",
       "    </tr>\n",
       "    <tr>\n",
       "      <th>4</th>\n",
       "      <td>3</td>\n",
       "      <td>Southwest</td>\n",
       "      <td>37.0</td>\n",
       "      <td>0</td>\n",
       "    </tr>\n",
       "  </tbody>\n",
       "</table>\n",
       "</div>"
      ],
      "text/plain": [
       "   patents     region   age  iscustomer\n",
       "0        0    Midwest  32.5           0\n",
       "1        3  Southwest  37.5           0\n",
       "2        4  Northwest  27.0           1\n",
       "3        3  Northeast  24.5           0\n",
       "4        3  Southwest  37.0           0"
      ]
     },
     "execution_count": 3,
     "metadata": {},
     "output_type": "execute_result"
    }
   ],
   "source": [
    "df1 = pd.read_csv(\"~/Desktop/MSBA/SP/MGTA495b/hw2/blueprinty.csv\")\n",
    "df1.head()"
   ]
  },
  {
   "cell_type": "code",
   "execution_count": 4,
   "id": "0b974a73",
   "metadata": {},
   "outputs": [
    {
     "data": {
      "image/png": "[encoded data removed]",
      "text/plain": [
       "<Figure size 1000x500 with 1 Axes>"
      ]
     },
     "metadata": {},
     "output_type": "display_data"
    },
    {
     "name": "stdout",
     "output_type": "stream",
     "text": [
      "Mean number of patents for customers: 4.133056133056133\n",
      "Mean number of patents for non-customers: 3.4730127576054954\n"
     ]
    }
   ],
   "source": [
    "import matplotlib.pyplot as plt\n",
    "\n",
    "customers = df1[df1['iscustomer'] == 1]\n",
    "non_customers = df1[df1['iscustomer'] == 0]\n",
    "\n",
    "plt.figure(figsize=(10, 5))\n",
    "plt.hist(customers['patents'], bins=10, alpha=0.5, label='Customers', color='blue')\n",
    "plt.hist(non_customers['patents'], bins=10, alpha=0.5, label='Non-Customers', color='orange')\n",
    "plt.xlabel('Number of Patents')\n",
    "plt.ylabel('Frequency')\n",
    "plt.title('Histogram of Patents by Customer Status')\n",
    "plt.legend()\n",
    "plt.show()\n",
    "\n",
    "mean_customers = customers['patents'].mean()\n",
    "mean_non_customers = non_customers['patents'].mean()\n",
    "\n",
    "print(f\"Mean number of patents for customers: {mean_customers}\")\n",
    "print(f\"Mean number of patents for non-customers: {mean_non_customers}\")"
   ]
  },
  {
   "cell_type": "code",
   "execution_count": 5,
   "id": "0025a997",
   "metadata": {},
   "outputs": [
    {
     "data": {
      "image/png": "[encoded data removed]",
      "text/plain": [
       "<Figure size 1000x600 with 1 Axes>"
      ]
     },
     "metadata": {},
     "output_type": "display_data"
    },
    {
     "data": {
      "text/plain": [
       "<Figure size 1000x600 with 0 Axes>"
      ]
     },
     "metadata": {},
     "output_type": "display_data"
    },
    {
     "data": {
      "image/png": "[encoded data removed]",
      "text/plain": [
       "<Figure size 640x480 with 1 Axes>"
      ]
     },
     "metadata": {},
     "output_type": "display_data"
    },
    {
     "name": "stdout",
     "output_type": "stream",
     "text": [
      "Mean age of patents for customers: 26.9002079002079\n",
      "Mean age of patents for non-customers: 26.101570166830225\n"
     ]
    }
   ],
   "source": [
    "# Bar plot for region distribution by customer status\n",
    "region_counts = df1.groupby(['region', 'iscustomer']).size().unstack()\n",
    "region_counts.plot(kind='bar', figsize=(10, 6))\n",
    "plt.title('Region Distribution by Customer Status')\n",
    "plt.xlabel('Region')\n",
    "plt.ylabel('Count')\n",
    "plt.legend(['Non-Customers', 'Customers'])\n",
    "plt.show()\n",
    "\n",
    "# Box plot for age distribution by customer status\n",
    "plt.figure(figsize=(10, 6))\n",
    "df1.boxplot(column='age', by='iscustomer', grid=False)\n",
    "plt.title('Age Distribution by Customer Status')\n",
    "plt.suptitle('')  \n",
    "plt.xlabel('Customer Status (0 = Non-Customer, 1 = Customer)')\n",
    "plt.ylabel('Age')\n",
    "plt.show()\n",
    "\n",
    "mean_age_customers = customers['age'].mean()\n",
    "mean_age_non_customers = non_customers['age'].mean()\n",
    "\n",
    "print(f\"Mean age of patents for customers: {mean_age_customers}\")\n",
    "print(f\"Mean age of patents for non-customers: {mean_age_non_customers}\")"
   ]
  },
  {
   "cell_type": "code",
   "execution_count": 6,
   "id": "7a485a85",
   "metadata": {},
   "outputs": [
    {
     "name": "stdout",
     "output_type": "stream",
     "text": [
      "Estimated lambda: 2.000000014292129\n"
     ]
    }
   ],
   "source": [
    "import numpy as np\n",
    "from scipy.special import gammaln\n",
    "from scipy.optimize import minimize_scalar\n",
    "\n",
    "# Log-likelihood function for Poisson model\n",
    "def poisson_loglikelihood(lambda_, Y):\n",
    "    if lambda_ <= 0:\n",
    "        return -np.inf  # return large negative value for invalid lambda\n",
    "    ll = np.sum(-lambda_ + Y * np.log(lambda_) - gammaln(Y + 1))\n",
    "    return ll\n",
    "\n",
    "# Example: maximize using scipy\n",
    "Y = np.array([2, 3, 1, 0, 4])  # example data\n",
    "\n",
    "result = minimize_scalar(lambda l: -poisson_loglikelihood(l, Y), bounds=(0.001, 10), method='bounded')\n",
    "print(\"Estimated lambda:\", result.x)"
   ]
  },
  {
   "cell_type": "code",
   "execution_count": 19,
   "id": "affc9c63",
   "metadata": {},
   "outputs": [
    {
     "data": {
      "image/png": "[encoded data removed]",
      "text/plain": [
       "<Figure size 1000x600 with 1 Axes>"
      ]
     },
     "metadata": {},
     "output_type": "display_data"
    }
   ],
   "source": [
    "# Define a range of lambda values\n",
    "lambda_values = np.linspace(0.1, 10, 100)\n",
    "\n",
    "Y = df1['patents'].values  # Use the patents data from df1\n",
    "# Compute the log-likelihood for each lambda\n",
    "log_likelihoods = [poisson_loglikelihood(l, Y) for l in lambda_values]\n",
    "\n",
    "# Plot the log-likelihood\n",
    "plt.figure(figsize=(10, 6))\n",
    "plt.plot(lambda_values, log_likelihoods, label='Log-Likelihood')\n",
    "plt.xlabel('Lambda')\n",
    "plt.ylabel('Log-Likelihood')\n",
    "plt.title('Log-Likelihood vs Lambda')\n",
    "plt.axvline(x=result.x, color='red', linestyle='--', label=f'Estimated Lambda: {result.x:.2f}')\n",
    "plt.legend()\n",
    "plt.show()"
   ]
  },
  {
   "cell_type": "code",
   "execution_count": 20,
   "id": "2d29cf1a",
   "metadata": {},
   "outputs": [
    {
     "name": "stdout",
     "output_type": "stream",
     "text": [
      "MLE for lambda (via optimization): 3.6847\n",
      "Sample mean of Y (Ȳ): 3.6847\n"
     ]
    }
   ],
   "source": [
    "# Define the negative log-likelihood function\n",
    "def neg_log_likelihood(lambda_):\n",
    "    if lambda_ <= 0:\n",
    "        return np.inf  \n",
    "    ll = np.sum(-lambda_ + Y * np.log(lambda_) - gammaln(Y + 1))\n",
    "    return -ll  # Negative because we minimize\n",
    "\n",
    "# Find MLE using numerical optimization\n",
    "result = minimize_scalar(neg_log_likelihood, bounds=(0.001, 100), method='bounded')\n",
    "lambda_mle = result.x\n",
    "\n",
    "# Compare with sample mean (Ȳ)\n",
    "Y_bar = np.mean(Y)\n",
    "\n",
    "# Print both\n",
    "print(f\"MLE for lambda (via optimization): {lambda_mle:.4f}\")\n",
    "print(f\"Sample mean of Y (Ȳ): {Y_bar:.4f}\")"
   ]
  },
  {
   "cell_type": "code",
   "execution_count": 36,
   "id": "fbf9339f",
   "metadata": {},
   "outputs": [],
   "source": [
    "def poisson_regression_loglikelihood(beta, Y, X):\n",
    "    lambda_ = np.exp(X @ beta)\n",
    "    if np.any(lambda_ <= 0):\n",
    "        return np.inf\n",
    "    ll = np.sum(-lambda_ + Y * np.log(lambda_) - gammaln(Y + 1))\n",
    "    return -ll"
   ]
  },
  {
   "cell_type": "code",
   "execution_count": 41,
   "id": "900e4c20",
   "metadata": {},
   "outputs": [
    {
     "name": "stdout",
     "output_type": "stream",
     "text": [
      "                  Coefficient  Std. Error\n",
      "Intercept                 0.0         1.0\n",
      "age                       0.0         1.0\n",
      "age_sq                    0.0         1.0\n",
      "region_Northeast          0.0         1.0\n",
      "region_Northwest          0.0         1.0\n",
      "region_South              0.0         1.0\n",
      "iscustomer                0.0         1.0\n"
     ]
    },
    {
     "name": "stderr",
     "output_type": "stream",
     "text": [
      "/opt/conda/lib/python3.12/site-packages/pandas/core/arraylike.py:399: RuntimeWarning: overflow encountered in exp\n",
      "  result = getattr(ufunc, method)(*inputs, **kwargs)\n",
      "/opt/conda/lib/python3.12/site-packages/numpy/core/_methods.py:49: RuntimeWarning: overflow encountered in reduce\n",
      "  return umr_sum(a, axis, dtype, out, keepdims, initial, where)\n",
      "/opt/conda/lib/python3.12/site-packages/scipy/optimize/_numdiff.py:590: RuntimeWarning: invalid value encountered in subtract\n",
      "  df = fun(x) - f0\n",
      "/opt/conda/lib/python3.12/site-packages/pandas/core/arraylike.py:399: RuntimeWarning: overflow encountered in exp\n",
      "  result = getattr(ufunc, method)(*inputs, **kwargs)\n"
     ]
    }
   ],
   "source": [
    "import statsmodels.api as sm \n",
    "from scipy.optimize import minimize\n",
    "\n",
    "# Ensure age_sq exists\n",
    "df1['age_sq'] = df1['age'] ** 2\n",
    "\n",
    "# Create dummy variables for region (drop first to avoid multicollinearity)\n",
    "if 'region' in df1.columns:\n",
    "    df1 = pd.get_dummies(df1, columns=['region'], drop_first=True)\n",
    "\n",
    "# Define covariate columns in correct order\n",
    "region_dummies = [col for col in df1.columns if col.startswith('region_') and col != 'region_Southwest']\n",
    "X_cols = ['age', 'age_sq'] + region_dummies + ['iscustomer']\n",
    "\n",
    "# Construct X matrix: constant first, then all covariates\n",
    "X = df1[X_cols]\n",
    "X.insert(0, 'Intercept', 1.0)  # Ensures first column is all 1's\n",
    "\n",
    "# Convert to float (safe for optimization)\n",
    "X = X.astype(float)\n",
    "\n",
    "# Response variable\n",
    "Y = df1['patents'].values\n",
    "\n",
    "# Initial guess\n",
    "beta_init = np.zeros(X.shape[1])\n",
    "\n",
    "# Use BFGS method for optimization\n",
    "result = minimize(poisson_regression_loglikelihood, beta_init, args=(Y, X), method='BFGS')\n",
    "\n",
    "# Extract results\n",
    "beta_hat = result.x\n",
    "hessian = result.hess_inv\n",
    "standard_errors = np.sqrt(np.diag(hessian))\n",
    "\n",
    "# Output table\n",
    "coef_table = pd.DataFrame({\n",
    "    'Coefficient': beta_hat,\n",
    "    'Std. Error': standard_errors\n",
    "}, index=X.columns)\n",
    "\n",
    "print(coef_table)\n"
   ]
  },
  {
   "cell_type": "code",
   "execution_count": 32,
   "id": "db2a4aac",
   "metadata": {},
   "outputs": [
    {
     "name": "stdout",
     "output_type": "stream",
     "text": [
      "                 Generalized Linear Model Regression Results                  \n",
      "==============================================================================\n",
      "Dep. Variable:                      y   No. Observations:                 1500\n",
      "Model:                            GLM   Df Residuals:                     1492\n",
      "Model Family:                 Poisson   Df Model:                            7\n",
      "Link Function:                    Log   Scale:                          1.0000\n",
      "Method:                          IRLS   Log-Likelihood:                -3258.1\n",
      "Date:                Tue, 06 May 2025   Deviance:                       2143.3\n",
      "Time:                        15:48:32   Pearson chi2:                 2.07e+03\n",
      "No. Iterations:                     5   Pseudo R-squ. (CS):             0.1360\n",
      "Covariance Type:            nonrobust                                         \n",
      "====================================================================================\n",
      "                       coef    std err          z      P>|z|      [0.025      0.975]\n",
      "------------------------------------------------------------------------------------\n",
      "Intercept           -0.5089      0.183     -2.778      0.005      -0.868      -0.150\n",
      "age                  0.1486      0.014     10.716      0.000       0.121       0.176\n",
      "age_sq              -0.0030      0.000    -11.513      0.000      -0.003      -0.002\n",
      "region_Northeast     0.0292      0.044      0.669      0.504      -0.056       0.115\n",
      "region_Northwest    -0.0176      0.054     -0.327      0.744      -0.123       0.088\n",
      "region_South         0.0566      0.053      1.074      0.283      -0.047       0.160\n",
      "region_Southwest     0.0506      0.047      1.072      0.284      -0.042       0.143\n",
      "iscustomer           0.2076      0.031      6.719      0.000       0.147       0.268\n",
      "====================================================================================\n",
      "\n",
      "Coefficients from sm.GLM:\n",
      "Intercept          -0.508920\n",
      "age                 0.148619\n",
      "age_sq             -0.002970\n",
      "region_Northeast    0.029170\n",
      "region_Northwest   -0.017575\n",
      "region_South        0.056561\n",
      "region_Southwest    0.050576\n",
      "iscustomer          0.207591\n",
      "dtype: float64\n",
      "\n",
      "Coefficients from your optimization:\n",
      "[0. 0. 0. 0. 0. 0. 0. 0.]\n"
     ]
    }
   ],
   "source": [
    "# Fit a Poisson regression model using sm.GLM\n",
    "poisson_model = sm.GLM(Y, X, family=sm.families.Poisson())\n",
    "poisson_results = poisson_model.fit()\n",
    "\n",
    "# Display the summary of the results\n",
    "print(poisson_results.summary())\n",
    "\n",
    "# Compare coefficients from sm.GLM with your results\n",
    "glm_coefficients = poisson_results.params\n",
    "print(\"\\nCoefficients from sm.GLM:\")\n",
    "print(glm_coefficients)\n",
    "\n",
    "print(\"\\nCoefficients from your optimization:\")\n",
    "print(beta_hat)"
   ]
  },
  {
   "cell_type": "code",
   "execution_count": 43,
   "id": "819fd0d1",
   "metadata": {},
   "outputs": [
    {
     "data": {
      "application/vnd.microsoft.datawrangler.viewer.v0+json": {
       "columns": [
        {
         "name": "index",
         "rawType": "int64",
         "type": "integer"
        },
        {
         "name": "Unnamed: 0",
         "rawType": "int64",
         "type": "integer"
        },
        {
         "name": "id",
         "rawType": "int64",
         "type": "integer"
        },
        {
         "name": "days",
         "rawType": "int64",
         "type": "integer"
        },
        {
         "name": "last_scraped",
         "rawType": "object",
         "type": "string"
        },
        {
         "name": "host_since",
         "rawType": "object",
         "type": "string"
        },
        {
         "name": "room_type",
         "rawType": "object",
         "type": "string"
        },
        {
         "name": "bathrooms",
         "rawType": "float64",
         "type": "float"
        },
        {
         "name": "bedrooms",
         "rawType": "float64",
         "type": "float"
        },
        {
         "name": "price",
         "rawType": "int64",
         "type": "integer"
        },
        {
         "name": "number_of_reviews",
         "rawType": "int64",
         "type": "integer"
        },
        {
         "name": "review_scores_cleanliness",
         "rawType": "float64",
         "type": "float"
        },
        {
         "name": "review_scores_location",
         "rawType": "float64",
         "type": "float"
        },
        {
         "name": "review_scores_value",
         "rawType": "float64",
         "type": "float"
        },
        {
         "name": "instant_bookable",
         "rawType": "object",
         "type": "string"
        }
       ],
       "conversionMethod": "pd.DataFrame",
       "ref": "cb135892-cc5b-4e73-a9b2-379c0dd66d56",
       "rows": [
        [
         "0",
         "1",
         "2515",
         "3130",
         "4/2/2017",
         "9/6/2008",
         "Private room",
         "1.0",
         "1.0",
         "59",
         "150",
         "9.0",
         "9.0",
         "9.0",
         "f"
        ],
        [
         "1",
         "2",
         "2595",
         "3127",
         "4/2/2017",
         "9/9/2008",
         "Entire home/apt",
         "1.0",
         "0.0",
         "230",
         "20",
         "9.0",
         "10.0",
         "9.0",
         "f"
        ],
        [
         "2",
         "3",
         "3647",
         "3050",
         "4/2/2017",
         "11/25/2008",
         "Private room",
         "1.0",
         "1.0",
         "150",
         "0",
         null,
         null,
         null,
         "f"
        ],
        [
         "3",
         "4",
         "3831",
         "3038",
         "4/2/2017",
         "12/7/2008",
         "Entire home/apt",
         "1.0",
         "1.0",
         "89",
         "116",
         "9.0",
         "9.0",
         "9.0",
         "f"
        ],
        [
         "4",
         "5",
         "4611",
         "3012",
         "4/2/2017",
         "1/2/2009",
         "Private room",
         null,
         "1.0",
         "39",
         "93",
         "9.0",
         "8.0",
         "9.0",
         "t"
        ]
       ],
       "shape": {
        "columns": 14,
        "rows": 5
       }
      },
      "text/html": [
       "<div>\n",
       "<style scoped>\n",
       "    .dataframe tbody tr th:only-of-type {\n",
       "        vertical-align: middle;\n",
       "    }\n",
       "\n",
       "    .dataframe tbody tr th {\n",
       "        vertical-align: top;\n",
       "    }\n",
       "\n",
       "    .dataframe thead th {\n",
       "        text-align: right;\n",
       "    }\n",
       "</style>\n",
       "<table border=\"1\" class=\"dataframe\">\n",
       "  <thead>\n",
       "    <tr style=\"text-align: right;\">\n",
       "      <th></th>\n",
       "      <th>Unnamed: 0</th>\n",
       "      <th>id</th>\n",
       "      <th>days</th>\n",
       "      <th>last_scraped</th>\n",
       "      <th>host_since</th>\n",
       "      <th>room_type</th>\n",
       "      <th>bathrooms</th>\n",
       "      <th>bedrooms</th>\n",
       "      <th>price</th>\n",
       "      <th>number_of_reviews</th>\n",
       "      <th>review_scores_cleanliness</th>\n",
       "      <th>review_scores_location</th>\n",
       "      <th>review_scores_value</th>\n",
       "      <th>instant_bookable</th>\n",
       "    </tr>\n",
       "  </thead>\n",
       "  <tbody>\n",
       "    <tr>\n",
       "      <th>0</th>\n",
       "      <td>1</td>\n",
       "      <td>2515</td>\n",
       "      <td>3130</td>\n",
       "      <td>4/2/2017</td>\n",
       "      <td>9/6/2008</td>\n",
       "      <td>Private room</td>\n",
       "      <td>1.0</td>\n",
       "      <td>1.0</td>\n",
       "      <td>59</td>\n",
       "      <td>150</td>\n",
       "      <td>9.0</td>\n",
       "      <td>9.0</td>\n",
       "      <td>9.0</td>\n",
       "      <td>f</td>\n",
       "    </tr>\n",
       "    <tr>\n",
       "      <th>1</th>\n",
       "      <td>2</td>\n",
       "      <td>2595</td>\n",
       "      <td>3127</td>\n",
       "      <td>4/2/2017</td>\n",
       "      <td>9/9/2008</td>\n",
       "      <td>Entire home/apt</td>\n",
       "      <td>1.0</td>\n",
       "      <td>0.0</td>\n",
       "      <td>230</td>\n",
       "      <td>20</td>\n",
       "      <td>9.0</td>\n",
       "      <td>10.0</td>\n",
       "      <td>9.0</td>\n",
       "      <td>f</td>\n",
       "    </tr>\n",
       "    <tr>\n",
       "      <th>2</th>\n",
       "      <td>3</td>\n",
       "      <td>3647</td>\n",
       "      <td>3050</td>\n",
       "      <td>4/2/2017</td>\n",
       "      <td>11/25/2008</td>\n",
       "      <td>Private room</td>\n",
       "      <td>1.0</td>\n",
       "      <td>1.0</td>\n",
       "      <td>150</td>\n",
       "      <td>0</td>\n",
       "      <td>NaN</td>\n",
       "      <td>NaN</td>\n",
       "      <td>NaN</td>\n",
       "      <td>f</td>\n",
       "    </tr>\n",
       "    <tr>\n",
       "      <th>3</th>\n",
       "      <td>4</td>\n",
       "      <td>3831</td>\n",
       "      <td>3038</td>\n",
       "      <td>4/2/2017</td>\n",
       "      <td>12/7/2008</td>\n",
       "      <td>Entire home/apt</td>\n",
       "      <td>1.0</td>\n",
       "      <td>1.0</td>\n",
       "      <td>89</td>\n",
       "      <td>116</td>\n",
       "      <td>9.0</td>\n",
       "      <td>9.0</td>\n",
       "      <td>9.0</td>\n",
       "      <td>f</td>\n",
       "    </tr>\n",
       "    <tr>\n",
       "      <th>4</th>\n",
       "      <td>5</td>\n",
       "      <td>4611</td>\n",
       "      <td>3012</td>\n",
       "      <td>4/2/2017</td>\n",
       "      <td>1/2/2009</td>\n",
       "      <td>Private room</td>\n",
       "      <td>NaN</td>\n",
       "      <td>1.0</td>\n",
       "      <td>39</td>\n",
       "      <td>93</td>\n",
       "      <td>9.0</td>\n",
       "      <td>8.0</td>\n",
       "      <td>9.0</td>\n",
       "      <td>t</td>\n",
       "    </tr>\n",
       "  </tbody>\n",
       "</table>\n",
       "</div>"
      ],
      "text/plain": [
       "   Unnamed: 0    id  days last_scraped  host_since        room_type  \\\n",
       "0           1  2515  3130     4/2/2017    9/6/2008     Private room   \n",
       "1           2  2595  3127     4/2/2017    9/9/2008  Entire home/apt   \n",
       "2           3  3647  3050     4/2/2017  11/25/2008     Private room   \n",
       "3           4  3831  3038     4/2/2017   12/7/2008  Entire home/apt   \n",
       "4           5  4611  3012     4/2/2017    1/2/2009     Private room   \n",
       "\n",
       "   bathrooms  bedrooms  price  number_of_reviews  review_scores_cleanliness  \\\n",
       "0        1.0       1.0     59                150                        9.0   \n",
       "1        1.0       0.0    230                 20                        9.0   \n",
       "2        1.0       1.0    150                  0                        NaN   \n",
       "3        1.0       1.0     89                116                        9.0   \n",
       "4        NaN       1.0     39                 93                        9.0   \n",
       "\n",
       "   review_scores_location  review_scores_value instant_bookable  \n",
       "0                     9.0                  9.0                f  \n",
       "1                    10.0                  9.0                f  \n",
       "2                     NaN                  NaN                f  \n",
       "3                     9.0                  9.0                f  \n",
       "4                     8.0                  9.0                t  "
      ]
     },
     "execution_count": 43,
     "metadata": {},
     "output_type": "execute_result"
    }
   ],
   "source": [
    "df = pd.read_csv(\"~/Desktop/MSBA/SP/MGTA495b/hw2/airbnb.csv\")\n",
    "df.head()"
   ]
  },
  {
   "cell_type": "code",
   "execution_count": 44,
   "id": "7caddb6c",
   "metadata": {},
   "outputs": [
    {
     "name": "stdout",
     "output_type": "stream",
     "text": [
      "                           Coefficient  Std. Error\n",
      "const                              0.0         1.0\n",
      "days                               0.0         1.0\n",
      "bathrooms                          0.0         1.0\n",
      "bedrooms                           0.0         1.0\n",
      "price                              0.0         1.0\n",
      "review_scores_cleanliness          0.0         1.0\n",
      "review_scores_location             0.0         1.0\n",
      "review_scores_value                0.0         1.0\n",
      "instant_bookable                   0.0         1.0\n",
      "room_type_Private room             0.0         1.0\n",
      "room_type_Shared room              0.0         1.0\n"
     ]
    },
    {
     "name": "stderr",
     "output_type": "stream",
     "text": [
      "/opt/conda/lib/python3.12/site-packages/pandas/core/arraylike.py:399: RuntimeWarning: overflow encountered in exp\n",
      "  result = getattr(ufunc, method)(*inputs, **kwargs)\n",
      "/opt/conda/lib/python3.12/site-packages/numpy/core/_methods.py:49: RuntimeWarning: overflow encountered in reduce\n",
      "  return umr_sum(a, axis, dtype, out, keepdims, initial, where)\n",
      "/opt/conda/lib/python3.12/site-packages/scipy/optimize/_numdiff.py:590: RuntimeWarning: invalid value encountered in subtract\n",
      "  df = fun(x) - f0\n",
      "/opt/conda/lib/python3.12/site-packages/pandas/core/arraylike.py:399: RuntimeWarning: overflow encountered in exp\n",
      "  result = getattr(ufunc, method)(*inputs, **kwargs)\n",
      "/opt/conda/lib/python3.12/site-packages/numpy/core/_methods.py:49: RuntimeWarning: overflow encountered in reduce\n",
      "  return umr_sum(a, axis, dtype, out, keepdims, initial, where)\n"
     ]
    }
   ],
   "source": [
    "# Step 1: Data cleaning\n",
    "vars_to_keep = [\n",
    "    'number_of_reviews', 'days', 'room_type', 'bathrooms', 'bedrooms',\n",
    "    'price', 'review_scores_cleanliness', 'review_scores_location',\n",
    "    'review_scores_value', 'instant_bookable'\n",
    "]\n",
    "df = df[vars_to_keep].dropna()\n",
    "\n",
    "# Step 2: Feature engineering\n",
    "df['instant_bookable'] = (df['instant_bookable'] == 't').astype(int)\n",
    "df = pd.get_dummies(df, columns=['room_type'], drop_first=True)\n",
    "\n",
    "# Step 3: Build covariate matrix\n",
    "X_cols = [\n",
    "    'days', 'bathrooms', 'bedrooms', 'price',\n",
    "    'review_scores_cleanliness', 'review_scores_location',\n",
    "    'review_scores_value', 'instant_bookable'\n",
    "] + [col for col in df.columns if col.startswith('room_type_')]\n",
    "\n",
    "X = sm.add_constant(df[X_cols]).astype(float)\n",
    "Y = df['number_of_reviews'].astype(int).values\n",
    "\n",
    "# Step 4: Define Poisson log-likelihood\n",
    "def poisson_loglikelihood(beta, Y, X):\n",
    "    lambda_ = np.exp(X @ beta)\n",
    "    if np.any(lambda_ <= 0):\n",
    "        return np.inf\n",
    "    ll = np.sum(-lambda_ + Y * np.log(lambda_) - gammaln(Y + 1))\n",
    "    return -ll  # Negative log-likelihood for minimization\n",
    "\n",
    "# Step 5: Fit model\n",
    "beta_init = np.zeros(X.shape[1])\n",
    "result = minimize(poisson_loglikelihood, beta_init, args=(Y, X), method='BFGS')\n",
    "\n",
    "# Step 6: Extract results\n",
    "beta_hat = result.x\n",
    "hessian = result.hess_inv\n",
    "standard_errors = np.sqrt(np.diag(hessian))\n",
    "\n",
    "# Step 7: Display coefficient table\n",
    "coef_table = pd.DataFrame({\n",
    "    'Coefficient': beta_hat,\n",
    "    'Std. Error': standard_errors\n",
    "}, index=X.columns)\n",
    "\n",
    "print(coef_table)"
   ]
  }
 ],
 "metadata": {
  "kernelspec": {
   "display_name": "base",
   "language": "python",
   "name": "python3"
  },
  "language_info": {
   "codemirror_mode": {
    "name": "ipython",
    "version": 3
   },
   "file_extension": ".py",
   "mimetype": "text/x-python",
   "name": "python",
   "nbconvert_exporter": "python",
   "pygments_lexer": "ipython3",
   "version": "3.12.7"
  }
 },
 "nbformat": 4,
 "nbformat_minor": 5
}
